{
 "cells": [
  {
   "cell_type": "code",
   "execution_count": 25,
   "metadata": {},
   "outputs": [
    {
     "name": "stdout",
     "output_type": "stream",
     "text": [
      "-0.13934767760277472\n",
      "12.704107275333271\n",
      "The linear model is :Y = 12.704 + -0.1393X\n"
     ]
    }
   ],
   "source": [
    "# 1)Apply Linear Regression to the given dataset without splitting dataset\n",
    "import matplotlib.pyplot as plt\n",
    "import numpy as np\n",
    "import pandas as pd\n",
    "import seaborn as sns\n",
    "from sklearn.linear_model import LinearRegression\n",
    "data = pd.read_csv(\"Lifeexpectancy.csv\")\n",
    "X = data['life'].values.reshape(-1,1)\n",
    "Y = data['fertility'].values.reshape(-1,1)\n",
    "reg = LinearRegression()\n",
    "reg.fit(X,Y)\n",
    "print(reg.coef_[0][0])\n",
    "print(reg.intercept_[0])\n",
    "print('The linear model is :Y = {:.5} + {:.4}X'.format(reg.intercept_[0],reg.coef_[0][0]))\n"
   ]
  },
  {
   "cell_type": "code",
   "execution_count": 26,
   "metadata": {},
   "outputs": [
    {
     "name": "stdout",
     "output_type": "stream",
     "text": [
      "R2 Score is : 0.6192442167740037\n"
     ]
    }
   ],
   "source": [
    "# 2)Check the R squared score\n",
    "r2 = reg.score(X,Y)\n",
    "print('R2 Score is :',r2)"
   ]
  },
  {
   "cell_type": "code",
   "execution_count": 27,
   "metadata": {},
   "outputs": [],
   "source": [
    "# 3)Split the dataset into training and testing sets.\n",
    "from sklearn.model_selection import train_test_split\n",
    "X_train,X_test,Y_train,Y_test = train_test_split(X,Y,test_size=0.3,random_state=1)\n"
   ]
  },
  {
   "cell_type": "code",
   "execution_count": 28,
   "metadata": {},
   "outputs": [
    {
     "name": "stdout",
     "output_type": "stream",
     "text": [
      "Coefficients: [[-0.13934768]]\n",
      "R2 score: 0.5457387671773493\n"
     ]
    }
   ],
   "source": [
    "# 4)Check the R squared score\n",
    "\n",
    "print('Coefficients:', reg.coef_)\n",
    "print('R2 score:',reg.score(X_test, Y_test))"
   ]
  },
  {
   "cell_type": "code",
   "execution_count": 29,
   "metadata": {},
   "outputs": [
    {
     "data": {
      "text/plain": [
       "array([[12.20245564]])"
      ]
     },
     "execution_count": 29,
     "metadata": {},
     "output_type": "execute_result"
    }
   ],
   "source": [
    "# 5)Finally take any value for fertility and predict the life.\n",
    "reg.predict([[3.6]])"
   ]
  },
  {
   "cell_type": "code",
   "execution_count": null,
   "metadata": {},
   "outputs": [],
   "source": []
  }
 ],
 "metadata": {
  "kernelspec": {
   "display_name": "Python 3",
   "language": "python",
   "name": "python3"
  },
  "language_info": {
   "codemirror_mode": {
    "name": "ipython",
    "version": 3
   },
   "file_extension": ".py",
   "mimetype": "text/x-python",
   "name": "python",
   "nbconvert_exporter": "python",
   "pygments_lexer": "ipython3",
   "version": "3.7.3"
  }
 },
 "nbformat": 4,
 "nbformat_minor": 2
}
